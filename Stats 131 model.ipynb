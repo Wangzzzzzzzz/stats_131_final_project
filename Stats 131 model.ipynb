{
 "cells": [
  {
   "cell_type": "markdown",
   "metadata": {},
   "source": [
    "## Import all required packages.\n",
    "\n",
    "We decided to perform the random forest classification for classify pokemon legendary status."
   ]
  },
  {
   "cell_type": "code",
   "execution_count": 41,
   "metadata": {
    "collapsed": true
   },
   "outputs": [],
   "source": [
    "import numpy as np\n",
    "import pandas as pd\n",
    "import warnings\n",
    "import matplotlib.pyplot as plt\n",
    "warnings.filterwarnings('ignore')\n",
    "from sklearn.preprocessing import LabelEncoder\n",
    "from sklearn.model_selection import train_test_split\n",
    "from sklearn.ensemble import RandomForestClassifier\n",
    "from sklearn import metrics\n",
    "from sklearn.cross_validation import cross_val_score\n",
    "from sklearn.metrics import f1_score\n",
    "from tpot import TPOTClassifier"
   ]
  },
  {
   "cell_type": "code",
   "execution_count": 4,
   "metadata": {
    "scrolled": false
   },
   "outputs": [
    {
     "name": "stdout",
     "output_type": "stream",
     "text": [
      "   #                   Name Type 1  Type 2  Total  HP  Attack  Defense  \\\n",
      "0  1              Bulbasaur  Grass  Poison    318  45      49       49   \n",
      "1  2                Ivysaur  Grass  Poison    405  60      62       63   \n",
      "2  3               Venusaur  Grass  Poison    525  80      82       83   \n",
      "3  3  VenusaurMega Venusaur  Grass  Poison    625  80     100      123   \n",
      "4  4             Charmander   Fire     NaN    309  39      52       43   \n",
      "\n",
      "   Sp. Atk  Sp. Def  Speed  Generation  Legendary  \n",
      "0       65       65     45           1      False  \n",
      "1       80       80     60           1      False  \n",
      "2      100      100     80           1      False  \n",
      "3      122      120     80           1      False  \n",
      "4       60       50     65           1      False  \n"
     ]
    }
   ],
   "source": [
    "pokemon = pd.read_csv(\"Pokemon.csv\")\n",
    "print(pokemon.head())"
   ]
  },
  {
   "cell_type": "markdown",
   "metadata": {},
   "source": [
    "## Data transformation before performing the model.\n",
    "\n",
    "In order to perform the random forest classification, we need to encode string variables into integers. For doing so, we use the package called LabelEncoder to perform the certain transformation"
   ]
  },
  {
   "cell_type": "code",
   "execution_count": 7,
   "metadata": {},
   "outputs": [
    {
     "name": "stdout",
     "output_type": "stream",
     "text": [
      "   #                   Name  Type 1  Type 2  Total  HP  Attack  Defense  \\\n",
      "0  1              Bulbasaur       9      14    318  45      49       49   \n",
      "1  2                Ivysaur       9      14    405  60      62       63   \n",
      "2  3               Venusaur       9      14    525  80      82       83   \n",
      "3  3  VenusaurMega Venusaur       9      14    625  80     100      123   \n",
      "4  4             Charmander       6      12    309  39      52       43   \n",
      "\n",
      "   Sp. Atk  Sp. Def  Speed  Generation  Legendary  \n",
      "0       65       65     45           1      False  \n",
      "1       80       80     60           1      False  \n",
      "2      100      100     80           1      False  \n",
      "3      122      120     80           1      False  \n",
      "4       60       50     65           1      False  \n"
     ]
    }
   ],
   "source": [
    "for column in pokemon['Type 1']:\n",
    "    if pokemon['Type 1'].dtype == type(object):\n",
    "        le = LabelEncoder()\n",
    "        pokemon['Type 1'] = le.fit_transform(pokemon['Type 1'])\n",
    "        \n",
    "pokemon = pokemon.replace(np.nan, 'No Type 2', regex=True)\n",
    "        \n",
    "for column in pokemon['Type 2']:\n",
    "    if pokemon['Type 2'].dtype == type(object):\n",
    "        le = LabelEncoder()\n",
    "        pokemon['Type 2'] = le.fit_transform(pokemon['Type 2'])\n",
    "        \n",
    "print(pokemon.head())"
   ]
  },
  {
   "cell_type": "markdown",
   "metadata": {},
   "source": [
    "## Spliting Data\n",
    "\n",
    "For performing the random forest classification, we firstly split data into training and testing data. Also, since the attribute 'Total' is the composition of all other ability scores, we decided to drop all other scores and keep 'Total' instead."
   ]
  },
  {
   "cell_type": "code",
   "execution_count": 8,
   "metadata": {
    "collapsed": true
   },
   "outputs": [],
   "source": [
    "X=pokemon[['Type 1', 'Type 2','Total', 'Generation']]  # Features\n",
    "y=pokemon['Legendary']  # Labels\n",
    "\n",
    "# Split dataset into training set and test set\n",
    "X_train, X_test, y_train, y_test = train_test_split(X, y, test_size=0.3)"
   ]
  },
  {
   "cell_type": "code",
   "execution_count": 36,
   "metadata": {},
   "outputs": [],
   "source": [
    "#Create a Gaussian Classifier\n",
    "clf=RandomForestClassifier(n_estimators=250)\n",
    "\n",
    "#Train the model using the training sets y_pred=clf.predict(X_test)\n",
    "clf.fit(X_train,y_train)\n",
    "\n",
    "y_pred=clf.predict(X_test)"
   ]
  },
  {
   "cell_type": "code",
   "execution_count": 37,
   "metadata": {
    "scrolled": false
   },
   "outputs": [
    {
     "name": "stdout",
     "output_type": "stream",
     "text": [
      "Accuracy: 0.9541666666666667\n"
     ]
    }
   ],
   "source": [
    "print(\"Accuracy:\",metrics.accuracy_score(y_test, y_pred))"
   ]
  },
  {
   "cell_type": "markdown",
   "metadata": {},
   "source": [
    "\n",
    "After performing random forest classification, our accuracy of classification is 95%. \n"
   ]
  },
  {
   "cell_type": "code",
   "execution_count": 38,
   "metadata": {},
   "outputs": [
    {
     "name": "stdout",
     "output_type": "stream",
     "text": [
      "            IMPORTANCE\n",
      "FEATURE               \n",
      "Total            0.697\n",
      "Type 1           0.120\n",
      "Generation       0.093\n",
      "Type 2           0.089\n"
     ]
    },
    {
     "data": {
      "image/png": "[encoded data removed]",
      "text/plain": [
       "<Figure size 864x576 with 1 Axes>"
      ]
     },
     "metadata": {},
     "output_type": "display_data"
    }
   ],
   "source": [
    "rfc = RandomForestClassifier()\n",
    "rfc.fit(X, y)\n",
    "importances = pd.DataFrame({'FEATURE':X.columns,'IMPORTANCE':np.round(rfc.feature_importances_,3)})\n",
    "importances = importances.sort_values('IMPORTANCE',ascending=False).set_index('FEATURE')\n",
    "\n",
    "print(importances)\n",
    "importances.plot.bar(figsize = (12,8), title = \"Importance Plot\")\n",
    "plt.show()"
   ]
  },
  {
   "cell_type": "markdown",
   "metadata": {},
   "source": [
    "We have also created a importance plot to visualize the importance of each variables. The importance of 'Total' is nearly 0.7 that beget it as the most important variable in this model. The rest of variables are not as important as 'Total'.\n",
    "\n",
    "## Cross Validation\n",
    "\n",
    "We also performed a 10-fold cross validation for checking the overfitting."
   ]
  },
  {
   "cell_type": "code",
   "execution_count": 50,
   "metadata": {},
   "outputs": [
    {
     "name": "stdout",
     "output_type": "stream",
     "text": [
      "0.9590806561859194\n"
     ]
    }
   ],
   "source": [
    "# Perform a 10-fold cross validation\n",
    "print (np.mean(cross_val_score(clf, X_train, y_train, cv=10)))"
   ]
  },
  {
   "cell_type": "markdown",
   "metadata": {},
   "source": [
    "The result of the cross validation absolve the issue of overfitting. We conclude that our model is valid.\n",
    "\n",
    "## Pipeline optimization\n",
    "\n",
    "For enhancing our model, we decided to use the method TPOT classifier from package TPOT. The function will create numerous pipelines and keep compositing different models until your designated termination. Then the function will return a final composite model to us with a optimized accuracy."
   ]
  },
  {
   "cell_type": "code",
   "execution_count": 51,
   "metadata": {
    "collapsed": true
   },
   "outputs": [],
   "source": [
    "# Use package TPOT to perform a pipeline_optimizer in order to enchance the model\n",
    "pipeline_optimizer = TPOTClassifier()\n",
    "pipeline_optimizer = TPOTClassifier(generations=10, population_size=80, cv=5,n_jobs=-1,\n",
    "                                    random_state=31415, verbosity=2)"
   ]
  },
  {
   "cell_type": "code",
   "execution_count": 52,
   "metadata": {},
   "outputs": [
    {
     "name": "stdout",
     "output_type": "stream",
     "text": [
      "Warning: xgboost.XGBClassifier is not available and will not be used by TPOT.\n"
     ]
    },
    {
     "data": {
      "application/vnd.jupyter.widget-view+json": {
       "model_id": "507da37c58ba4073b5460abe915ff8d7",
       "version_major": 2,
       "version_minor": 0
      },
      "text/plain": [
       "A Jupyter Widget"
      ]
     },
     "metadata": {},
     "output_type": "display_data"
    },
    {
     "name": "stdout",
     "output_type": "stream",
     "text": [
      "Generation 1 - Current best internal CV score: 0.9679347330896002\n",
      "Generation 2 - Current best internal CV score: 0.9679347330896002\n",
      "Generation 3 - Current best internal CV score: 0.9679347330896002\n",
      "Generation 4 - Current best internal CV score: 0.9679508206056878\n",
      "Generation 5 - Current best internal CV score: 0.9697529071422878\n",
      "Generation 6 - Current best internal CV score: 0.9697529071422878\n",
      "Generation 7 - Current best internal CV score: 0.9697687099235772\n",
      "Generation 8 - Current best internal CV score: 0.9715544242092914\n",
      "Generation 9 - Current best internal CV score: 0.9715544242092914\n",
      "Generation 10 - Current best internal CV score: 0.9715544242092914\n",
      "\n",
      "Best pipeline: DecisionTreeClassifier(KNeighborsClassifier(BernoulliNB(input_matrix, alpha=0.001, fit_prior=False), n_neighbors=12, p=1, weights=uniform), criterion=gini, max_depth=7, min_samples_leaf=1, min_samples_split=12)\n"
     ]
    },
    {
     "data": {
      "text/plain": [
       "TPOTClassifier(config_dict=None, crossover_rate=0.1, cv=5,\n",
       "        disable_update_check=False, early_stop=None, generations=10,\n",
       "        max_eval_time_mins=5, max_time_mins=None, memory=None,\n",
       "        mutation_rate=0.9, n_jobs=-1, offspring_size=None,\n",
       "        periodic_checkpoint_folder=None, population_size=80,\n",
       "        random_state=31415, scoring=None, subsample=1.0, use_dask=False,\n",
       "        verbosity=2, warm_start=False)"
      ]
     },
     "execution_count": 52,
     "metadata": {},
     "output_type": "execute_result"
    }
   ],
   "source": [
    "pipeline_optimizer.fit(X_train, y_train)"
   ]
  },
  {
   "cell_type": "code",
   "execution_count": 54,
   "metadata": {},
   "outputs": [
    {
     "name": "stdout",
     "output_type": "stream",
     "text": [
      "0.95\n"
     ]
    }
   ],
   "source": [
    "print(pipeline_optimizer.score(X_test, y_test))"
   ]
  },
  {
   "cell_type": "markdown",
   "metadata": {},
   "source": [
    "The final model also gives an accuracy around 95%."
   ]
  },
  {
   "cell_type": "markdown",
   "metadata": {},
   "source": [
    "## Conclusion:\n",
    "After performing the TPOT classification, we can see the accuracy did not enchance through our new composite model. We suspect that the reason behind this problem is our data consists inbalanced legendary status. Our testing data consists 240 observations, but only 22 of them are legendary. Due to the restriction of insufficient data recorded, we could not enlarge the amount of legendary pokemons. Our model is best performed with this extreme inbalanced dataset. "
   ]
  },
  {
   "cell_type": "markdown",
   "metadata": {},
   "source": [
    "## Limitation: \n",
    "- As mentioned above, one of the limitation of our study is the insufficient observations of legendary pokemons. \n",
    "- Besides the insufficient legendary pokemons, we also need more observations for both legendary and non-legendary pokemons for performing a better result of random forest classification. \n",
    "- we might need more essential variables in this dataset, such as species strength.\n",
    "- As mentioned in the background, the dataset includes both original status and evolved status of each pokemon. Pokemon's ability will enhance significantly by evolution. Therefore, it seems like the dataset included some unuseful information for classification since unevolved pokemons tend to have low ability scores.\n",
    "- We also suspect that the random forest might not be the best model for this type of classification."
   ]
  }
 ],
 "metadata": {
  "kernelspec": {
   "display_name": "Python 3",
   "language": "python",
   "name": "python3"
  },
  "language_info": {
   "codemirror_mode": {
    "name": "ipython",
    "version": 3
   },
   "file_extension": ".py",
   "mimetype": "text/x-python",
   "name": "python",
   "nbconvert_exporter": "python",
   "pygments_lexer": "ipython3",
   "version": "3.6.3"
  }
 },
 "nbformat": 4,
 "nbformat_minor": 2
}
